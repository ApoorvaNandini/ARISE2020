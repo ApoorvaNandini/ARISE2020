{
  "nbformat": 4,
  "nbformat_minor": 0,
  "metadata": {
    "colab": {
      "name": "Day2.ipynb",
      "provenance": [],
      "collapsed_sections": [
        "n9FnsN9XI6gN",
        "w78DOASLWcCD",
        "vKrhN7KoDRi1",
        "yWwnfe1HDbvK"
      ]
    },
    "kernelspec": {
      "name": "python3",
      "display_name": "Python 3"
    }
  },
  "cells": [
    {
      "cell_type": "markdown",
      "metadata": {
        "id": "Eqb1iCDHPpvZ",
        "colab_type": "text"
      },
      "source": [
        "# Day 2: Linear Regression\n",
        "## Module Outline:\n",
        "- M2: *Lab*: Simple Linear Model\n",
        "- M3: *Lab*: Goodness of Fit\n",
        "- M4: *Demo*: Statistics of the LS Solution\n",
        "- M5: *Demo*: Least Squares Solution\n",
        "- M6: *Demo*: Multivariable Regression on Boston Housing Data\n",
        "- M7: *Demo*: Transformed Output Using Cars MPG Data\n",
        "- M8: *Lab*: Multiple Linear Regression for Robot Arm Calibration\n",
        "- M9: *Demo*: Polynomial Regression\n",
        "- M10: *Demo*: Transformed Linear Model\n",
        "- M11: *Lab*: Transformed Linear Model"
      ]
    },
    {
      "cell_type": "markdown",
      "metadata": {
        "id": "31qLu9cN8-sq",
        "colab_type": "text"
      },
      "source": [
        "# M2: *Lab*: Simple Linear Model\n",
        "\n"
      ]
    },
    {
      "cell_type": "markdown",
      "metadata": {
        "id": "1v4lR_0tG9mk",
        "colab_type": "text"
      },
      "source": [
        "In this demo, you will load data, plot data, perform simple mathematical manipulations, and fit a straight line to a model. This demo uses the Boston housing data set, a widely-used machine learning data set for illustrating basic concepts.  "
      ]
    },
    {
      "cell_type": "markdown",
      "metadata": {
        "id": "KhpXao0R92Qm",
        "colab_type": "text"
      },
      "source": [
        "## Loading the data"
      ]
    },
    {
      "cell_type": "markdown",
      "metadata": {
        "id": "sBBHo84gDuwz",
        "colab_type": "text"
      },
      "source": [
        "The Boston housing data set was collected in the 1970s to study the relationship between house price and various factors such as the house size, crime rate, socio-economic status, etc.  Since the variables are easy to understand, the data set is ideal for learning basic concepts in machine learning.  The raw data and a complete description of the dataset can be found on the UCI website:\n",
        "\n",
        "https://archive.ics.uci.edu/ml/datasets/Housing\n",
        "\n",
        "First, use `pd.read_csv` command to read the data from the file located at\n",
        "\n",
        "https://archive.ics.uci.edu/ml/machine-learning-databases/housing/housing.data"
      ]
    },
    {
      "cell_type": "code",
      "metadata": {
        "id": "qkvuxuiq97Ji",
        "colab_type": "code",
        "colab": {
          "base_uri": "https://localhost:8080/",
          "height": 206
        },
        "outputId": "91f60c80-9d35-41f9-ef2a-bfd1820fa944"
      },
      "source": [
        "import pandas as pd\n",
        "import numpy as np\n",
        "names =[\n",
        "    'CRIM', 'ZN', 'INDUS', 'CHAS', 'NOX', 'RM', \n",
        "    'AGE',  'DIS', 'RAD', 'TAX', 'PTRATIO', 'B', 'LSTAT', 'PRICE']\n",
        "\n",
        "df = pd.read_csv('https://archive.ics.uci.edu/ml/machine-learning-databases/housing/housing.data', \n",
        "                 header=None, names=names, delim_whitespace=True,na_values='?')\n",
        "\n",
        "df.head(5)  # print the first six examples"
      ],
      "execution_count": 1,
      "outputs": [
        {
          "output_type": "execute_result",
          "data": {
            "text/html": [
              "<div>\n",
              "<style scoped>\n",
              "    .dataframe tbody tr th:only-of-type {\n",
              "        vertical-align: middle;\n",
              "    }\n",
              "\n",
              "    .dataframe tbody tr th {\n",
              "        vertical-align: top;\n",
              "    }\n",
              "\n",
              "    .dataframe thead th {\n",
              "        text-align: right;\n",
              "    }\n",
              "</style>\n",
              "<table border=\"1\" class=\"dataframe\">\n",
              "  <thead>\n",
              "    <tr style=\"text-align: right;\">\n",
              "      <th></th>\n",
              "      <th>CRIM</th>\n",
              "      <th>ZN</th>\n",
              "      <th>INDUS</th>\n",
              "      <th>CHAS</th>\n",
              "      <th>NOX</th>\n",
              "      <th>RM</th>\n",
              "      <th>AGE</th>\n",
              "      <th>DIS</th>\n",
              "      <th>RAD</th>\n",
              "      <th>TAX</th>\n",
              "      <th>PTRATIO</th>\n",
              "      <th>B</th>\n",
              "      <th>LSTAT</th>\n",
              "      <th>PRICE</th>\n",
              "    </tr>\n",
              "  </thead>\n",
              "  <tbody>\n",
              "    <tr>\n",
              "      <th>0</th>\n",
              "      <td>0.00632</td>\n",
              "      <td>18.0</td>\n",
              "      <td>2.31</td>\n",
              "      <td>0</td>\n",
              "      <td>0.538</td>\n",
              "      <td>6.575</td>\n",
              "      <td>65.2</td>\n",
              "      <td>4.0900</td>\n",
              "      <td>1</td>\n",
              "      <td>296.0</td>\n",
              "      <td>15.3</td>\n",
              "      <td>396.90</td>\n",
              "      <td>4.98</td>\n",
              "      <td>24.0</td>\n",
              "    </tr>\n",
              "    <tr>\n",
              "      <th>1</th>\n",
              "      <td>0.02731</td>\n",
              "      <td>0.0</td>\n",
              "      <td>7.07</td>\n",
              "      <td>0</td>\n",
              "      <td>0.469</td>\n",
              "      <td>6.421</td>\n",
              "      <td>78.9</td>\n",
              "      <td>4.9671</td>\n",
              "      <td>2</td>\n",
              "      <td>242.0</td>\n",
              "      <td>17.8</td>\n",
              "      <td>396.90</td>\n",
              "      <td>9.14</td>\n",
              "      <td>21.6</td>\n",
              "    </tr>\n",
              "    <tr>\n",
              "      <th>2</th>\n",
              "      <td>0.02729</td>\n",
              "      <td>0.0</td>\n",
              "      <td>7.07</td>\n",
              "      <td>0</td>\n",
              "      <td>0.469</td>\n",
              "      <td>7.185</td>\n",
              "      <td>61.1</td>\n",
              "      <td>4.9671</td>\n",
              "      <td>2</td>\n",
              "      <td>242.0</td>\n",
              "      <td>17.8</td>\n",
              "      <td>392.83</td>\n",
              "      <td>4.03</td>\n",
              "      <td>34.7</td>\n",
              "    </tr>\n",
              "    <tr>\n",
              "      <th>3</th>\n",
              "      <td>0.03237</td>\n",
              "      <td>0.0</td>\n",
              "      <td>2.18</td>\n",
              "      <td>0</td>\n",
              "      <td>0.458</td>\n",
              "      <td>6.998</td>\n",
              "      <td>45.8</td>\n",
              "      <td>6.0622</td>\n",
              "      <td>3</td>\n",
              "      <td>222.0</td>\n",
              "      <td>18.7</td>\n",
              "      <td>394.63</td>\n",
              "      <td>2.94</td>\n",
              "      <td>33.4</td>\n",
              "    </tr>\n",
              "    <tr>\n",
              "      <th>4</th>\n",
              "      <td>0.06905</td>\n",
              "      <td>0.0</td>\n",
              "      <td>2.18</td>\n",
              "      <td>0</td>\n",
              "      <td>0.458</td>\n",
              "      <td>7.147</td>\n",
              "      <td>54.2</td>\n",
              "      <td>6.0622</td>\n",
              "      <td>3</td>\n",
              "      <td>222.0</td>\n",
              "      <td>18.7</td>\n",
              "      <td>396.90</td>\n",
              "      <td>5.33</td>\n",
              "      <td>36.2</td>\n",
              "    </tr>\n",
              "  </tbody>\n",
              "</table>\n",
              "</div>"
            ],
            "text/plain": [
              "      CRIM    ZN  INDUS  CHAS    NOX  ...    TAX  PTRATIO       B  LSTAT  PRICE\n",
              "0  0.00632  18.0   2.31     0  0.538  ...  296.0     15.3  396.90   4.98   24.0\n",
              "1  0.02731   0.0   7.07     0  0.469  ...  242.0     17.8  396.90   9.14   21.6\n",
              "2  0.02729   0.0   7.07     0  0.469  ...  242.0     17.8  392.83   4.03   34.7\n",
              "3  0.03237   0.0   2.18     0  0.458  ...  222.0     18.7  394.63   2.94   33.4\n",
              "4  0.06905   0.0   2.18     0  0.458  ...  222.0     18.7  396.90   5.33   36.2\n",
              "\n",
              "[5 rows x 14 columns]"
            ]
          },
          "metadata": {
            "tags": []
          },
          "execution_count": 1
        }
      ]
    },
    {
      "cell_type": "markdown",
      "metadata": {
        "id": "95wDvIvY-C2q",
        "colab_type": "text"
      },
      "source": [
        "## Data Preparation"
      ]
    },
    {
      "cell_type": "markdown",
      "metadata": {
        "id": "ukIsG6znD0Qf",
        "colab_type": "text"
      },
      "source": [
        "What is the shape of the data?  How many attributes are there?  How many samples?"
      ]
    },
    {
      "cell_type": "code",
      "metadata": {
        "id": "N4sYogQY-HfM",
        "colab_type": "code",
        "colab": {
          "base_uri": "https://localhost:8080/",
          "height": 34
        },
        "outputId": "2db5449e-a7f3-4bfe-84c6-55f65b3231e9"
      },
      "source": [
        "(num_samples, num_attributes) = df.shape\n",
        "print('num samples = ',num_samples, 'num attributes =', num_attributes)"
      ],
      "execution_count": null,
      "outputs": [
        {
          "output_type": "stream",
          "text": [
            "num samples =  506 num attributes = 14\n"
          ],
          "name": "stdout"
        }
      ]
    },
    {
      "cell_type": "markdown",
      "metadata": {
        "id": "lArclEEC-UKF",
        "colab_type": "text"
      },
      "source": [
        "### Target Vector"
      ]
    },
    {
      "cell_type": "markdown",
      "metadata": {
        "id": "Jb9_GTLkERDE",
        "colab_type": "text"
      },
      "source": [
        "Create a response vector `y` with the values in the column `PRICE`.  The vector `y` should be a 1D `numpy.array` structure."
      ]
    },
    {
      "cell_type": "code",
      "metadata": {
        "id": "8i34YlOC-f_J",
        "colab_type": "code",
        "colab": {
          "base_uri": "https://localhost:8080/",
          "height": 34
        },
        "outputId": "a4dbfd50-94a9-451f-bbb9-82bed7077986"
      },
      "source": [
        "print(df.columns.tolist())\n",
        "y = df['PRICE']\n"
      ],
      "execution_count": 4,
      "outputs": [
        {
          "output_type": "stream",
          "text": [
            "['CRIM', 'ZN', 'INDUS', 'CHAS', 'NOX', 'RM', 'AGE', 'DIS', 'RAD', 'TAX', 'PTRATIO', 'B', 'LSTAT', 'PRICE']\n"
          ],
          "name": "stdout"
        }
      ]
    },
    {
      "cell_type": "markdown",
      "metadata": {
        "id": "EnZKKWBpEUx4",
        "colab_type": "text"
      },
      "source": [
        "### Predictor Vector"
      ]
    },
    {
      "cell_type": "markdown",
      "metadata": {
        "id": "8bIhcrg4Eais",
        "colab_type": "text"
      },
      "source": [
        "Similar to the `y` vector, create a predictor vector `x` containing the values in the `RM` column, which represents the average number of rooms in each region.\n",
        "\n"
      ]
    },
    {
      "cell_type": "code",
      "metadata": {
        "id": "VbCJLJXaEhb0",
        "colab_type": "code",
        "colab": {}
      },
      "source": [
        "x = df['RM']"
      ],
      "execution_count": null,
      "outputs": []
    },
    {
      "cell_type": "markdown",
      "metadata": {
        "id": "K98A9rjtEnSe",
        "colab_type": "text"
      },
      "source": [
        "## Visualizing the Data"
      ]
    },
    {
      "cell_type": "markdown",
      "metadata": {
        "id": "KDkvE7uOEvtw",
        "colab_type": "text"
      },
      "source": [
        "Python's `matplotlib` has very good routines for plotting and visualizing data that closely follows the format of MATLAB programs.  You can load the `matplotlib` package with the following commands."
      ]
    },
    {
      "cell_type": "code",
      "metadata": {
        "id": "L7INi3ZQEyUw",
        "colab_type": "code",
        "colab": {}
      },
      "source": [
        "import matplotlib\n",
        "import matplotlib.pyplot as plt\n",
        "%matplotlib inline"
      ],
      "execution_count": null,
      "outputs": []
    },
    {
      "cell_type": "markdown",
      "metadata": {
        "id": "1nJcMoEOE0jQ",
        "colab_type": "text"
      },
      "source": [
        "Create a scatter plot of the price vs. the `RM` attribute. "
      ]
    },
    {
      "cell_type": "code",
      "metadata": {
        "id": "iT_L5xD0E47h",
        "colab_type": "code",
        "colab": {
          "base_uri": "https://localhost:8080/",
          "height": 283
        },
        "outputId": "5898d706-639d-486f-e0da-1e50f7030209"
      },
      "source": [
        "plt.plot(x,y,'o')\n",
        "plt.xlabel('Average number of rooms in a region')\n",
        "plt.ylabel('Price')\n",
        "plt.grid(True)"
      ],
      "execution_count": null,
      "outputs": [
        {
          "output_type": "display_data",
          "data": {
            "image/png": "[encoded data removed]",
            "text/plain": [
              "<Figure size 432x288 with 1 Axes>"
            ]
          },
          "metadata": {
            "tags": []
          }
        }
      ]
    },
    {
      "cell_type": "markdown",
      "metadata": {
        "id": "unXH0e2fFIlt",
        "colab_type": "text"
      },
      "source": [
        "## Manually estimate a linear model"
      ]
    },
    {
      "cell_type": "code",
      "metadata": {
        "id": "LB8QBAUkp_CO",
        "colab_type": "code",
        "colab": {
          "base_uri": "https://localhost:8080/",
          "height": 34
        },
        "outputId": "00522864-85b2-44b2-99f3-a634bb2883e4"
      },
      "source": [
        "from sklearn import linear_model\n",
        "# sklearn is a simple ML Library\n",
        "regr = linear_model.LinearRegression() \n",
        "x_1 = np.array(x).reshape(-1,1)\n",
        "y_1 = np.array(y).reshape(-1,1)\n",
        "regr.fit(x_1, y_1)"
      ],
      "execution_count": null,
      "outputs": [
        {
          "output_type": "execute_result",
          "data": {
            "text/plain": [
              "LinearRegression(copy_X=True, fit_intercept=True, n_jobs=None, normalize=False)"
            ]
          },
          "metadata": {
            "tags": []
          },
          "execution_count": 8
        }
      ]
    },
    {
      "cell_type": "code",
      "metadata": {
        "id": "1ozW0er1qz-X",
        "colab_type": "code",
        "colab": {
          "base_uri": "https://localhost:8080/",
          "height": 101
        },
        "outputId": "e0d078c0-ad06-48c4-8d86-8204599aa6b4"
      },
      "source": [
        "ypred = regr.predict(x_1)\n",
        "\n",
        "error = np.mean((y_1 - ypred)**2)\n",
        "print(error)\n",
        "print(y_1.shape)\n",
        "print(ypred.shape)\n",
        "\n",
        "print(regr.intercept_)\n",
        "print(regr.coef_)"
      ],
      "execution_count": null,
      "outputs": [
        {
          "output_type": "stream",
          "text": [
            "43.60055177116956\n",
            "(506, 1)\n",
            "(506, 1)\n",
            "[-34.67062078]\n",
            "[[9.10210898]]\n"
          ],
          "name": "stdout"
        }
      ]
    },
    {
      "cell_type": "markdown",
      "metadata": {
        "id": "75E6UwPkFWGT",
        "colab_type": "text"
      },
      "source": [
        "We will fit a line to these data points. Roughly estimate the slope and y-intercept of the line that best fits this data.\n",
        "\n",
        "Now, Replot the scatter plot above, but now with the line on top of the above plot"
      ]
    },
    {
      "cell_type": "code",
      "metadata": {
        "id": "l7NHaEZiFb1w",
        "colab_type": "code",
        "colab": {
          "base_uri": "https://localhost:8080/"
        },
        "outputId": "835b2cfa-9c20-499a-a0e0-5aee3ac998a0"
      },
      "source": [
        "beta1 = 9\n",
        "beta0 = -30\n",
        "xplt = np.array([3,9]) \n",
        "yplt = beta1*xplt + beta0\n",
        "plt.plot(x,y,'o')    # Plot the data points\n",
        "bottom, top = plt.ylim()\n",
        "plt.ylim((bottom, top))\n",
        "plt.plot(xplt,yplt,'-',linewidth=3)  # Plot the regression line\n",
        "plt.xlabel('Average number of rooms in a region')\n",
        "plt.ylabel('Price')\n",
        "plt.grid(True)"
      ],
      "execution_count": null,
      "outputs": [
        {
          "output_type": "display_data",
          "data": {
            "image/png": "[encoded data removed]",
            "text/plain": [
              "<Figure size 432x288 with 1 Axes>"
            ]
          },
          "metadata": {
            "tags": []
          }
        }
      ]
    },
    {
      "cell_type": "markdown",
      "metadata": {
        "id": "9scXzVstFy5c",
        "colab_type": "text"
      },
      "source": [
        "# M3: *Demo*: Goodness of Fit"
      ]
    },
    {
      "cell_type": "markdown",
      "metadata": {
        "id": "tCp0B0qhF4wP",
        "colab_type": "text"
      },
      "source": [
        "There are several metrics that can measure the goodness of the fit. We will discuss about them as we go along. \n",
        "The (normalized) residual sum of squares, $$MSE=\\frac{1}{N} \\sum_{i=1}^{N} (y_i-\\hat{y}_i)^2$$\n",
        "   is one such metric shown below."
      ]
    },
    {
      "cell_type": "code",
      "metadata": {
        "id": "LZIAfkf-GCE4",
        "colab_type": "code",
        "colab": {
          "base_uri": "https://localhost:8080/",
          "height": 35
        },
        "outputId": "7427b7ba-951a-4653-949d-b0cb5adbef4e"
      },
      "source": [
        "yhat=beta0+beta1*x\n",
        "MSE = np.mean((y-yhat)**2)\n",
        "print(\"RSS = {0:7.2f}\".format(MSE))"
      ],
      "execution_count": null,
      "outputs": [
        {
          "output_type": "stream",
          "text": [
            "RSS =   59.84\n"
          ],
          "name": "stdout"
        }
      ]
    },
    {
      "cell_type": "markdown",
      "metadata": {
        "id": "vjUPfPJk-iuG",
        "colab_type": "text"
      },
      "source": [
        "# M4: *Demo*: Statistics for Least-Squares Solution \n"
      ]
    },
    {
      "cell_type": "markdown",
      "metadata": {
        "id": "x-0OY_orGXju",
        "colab_type": "text"
      },
      "source": [
        "## Basic Manipulations on the data\n",
        "\n"
      ]
    },
    {
      "cell_type": "markdown",
      "metadata": {
        "id": "lzn7NBnlGl4W",
        "colab_type": "text"
      },
      "source": [
        "Use the response vector `y` to find the mean house price in thousands and the fraction of homes that are above $40k. (You may realize this is very cheap.  Prices have gone up a lot since the 1970s!)."
      ]
    },
    {
      "cell_type": "code",
      "metadata": {
        "id": "KI66pclc-rtb",
        "colab_type": "code",
        "colab": {
          "base_uri": "https://localhost:8080/",
          "height": 52
        },
        "outputId": "2f5c0b6e-c899-4f3e-b363-952891211f29"
      },
      "source": [
        "mean = np.mean(y)\n",
        "j = 0;\n",
        "for i in range(len(y)):\n",
        "    if y[i] >= 40:\n",
        "        j = j+1      \n",
        "percent = (j/len(y))*100\n",
        "print('The mean house price is', mean, 'thousands of dollars')\n",
        "print('Only', percent, 'percent are above $40k')"
      ],
      "execution_count": null,
      "outputs": [
        {
          "output_type": "stream",
          "text": [
            "The mean house price is 22.532806324110698 thousands of dollars\n",
            "Only 6.126482213438735 percent are above $40k\n"
          ],
          "name": "stdout"
        }
      ]
    },
    {
      "cell_type": "markdown",
      "metadata": {
        "id": "pLKDzpEc-izK",
        "colab_type": "text"
      },
      "source": [
        "## Calculate the mean, variance, covariance to find the model parameters\n",
        "\n",
        "Covariance is a measure of how much two random variables vary together. It's similar to variance, but where variance tells you how a single variable varies, co variance tells you how two variables vary together.\n",
        "- Large positive covariance\n",
        "- Zero covariance\n",
        "- Large negative covariance\n",
        "\n",
        "The correlation coefficient is a statistical measure of the strength of the relationship between the relative movements of two variables. The values range between -1.0 and 1.0. ... A correlation of -1.0 shows a perfect negative correlation, while a correlation of 1.0 shows a perfect positive correlation."
      ]
    },
    {
      "cell_type": "code",
      "metadata": {
        "id": "eOi0UDqqIP_D",
        "colab_type": "code",
        "colab": {}
      },
      "source": [
        "xm = np.mean(x)\n",
        "ym = np.mean(y)\n",
        "syy = np.mean((y-ym)**2)\n",
        "syx = np.mean((y-ym)*(x-xm))\n",
        "sxx = np.mean((x-xm)**2)"
      ],
      "execution_count": null,
      "outputs": []
    },
    {
      "cell_type": "markdown",
      "metadata": {
        "id": "1kQYIlrqJEH6",
        "colab_type": "text"
      },
      "source": [
        "## Lab: Gaining Intuition for some Statistics"
      ]
    },
    {
      "cell_type": "markdown",
      "metadata": {
        "id": "fz-LMF3vJOrz",
        "colab_type": "text"
      },
      "source": [
        "import the data from the github"
      ]
    },
    {
      "cell_type": "code",
      "metadata": {
        "id": "ISTl2f-XJB2W",
        "colab_type": "code",
        "colab": {
          "base_uri": "https://localhost:8080/",
          "height": 206
        },
        "outputId": "379dae20-6907-476b-bc7d-a59d071b9da3"
      },
      "source": [
        "import pandas as pd\n",
        "import numpy as np\n",
        "import matplotlib\n",
        "import matplotlib.pyplot as plt\n",
        "%matplotlib inline\n",
        "\n",
        "url = 'https://raw.githubusercontent.com/nikopj/SummerML/master/Day2/DATA.csv'\n",
        "df = pd.read_csv(url)\n",
        "\n",
        "df.head(5)"
      ],
      "execution_count": null,
      "outputs": [
        {
          "output_type": "execute_result",
          "data": {
            "text/html": [
              "<div>\n",
              "<style scoped>\n",
              "    .dataframe tbody tr th:only-of-type {\n",
              "        vertical-align: middle;\n",
              "    }\n",
              "\n",
              "    .dataframe tbody tr th {\n",
              "        vertical-align: top;\n",
              "    }\n",
              "\n",
              "    .dataframe thead th {\n",
              "        text-align: right;\n",
              "    }\n",
              "</style>\n",
              "<table border=\"1\" class=\"dataframe\">\n",
              "  <thead>\n",
              "    <tr style=\"text-align: right;\">\n",
              "      <th></th>\n",
              "      <th>x</th>\n",
              "      <th>y</th>\n",
              "      <th>case</th>\n",
              "    </tr>\n",
              "  </thead>\n",
              "  <tbody>\n",
              "    <tr>\n",
              "      <th>0</th>\n",
              "      <td>0.246</td>\n",
              "      <td>0.174</td>\n",
              "      <td>0.0</td>\n",
              "    </tr>\n",
              "    <tr>\n",
              "      <th>1</th>\n",
              "      <td>0.250</td>\n",
              "      <td>-0.487</td>\n",
              "      <td>0.0</td>\n",
              "    </tr>\n",
              "    <tr>\n",
              "      <th>2</th>\n",
              "      <td>0.255</td>\n",
              "      <td>-0.202</td>\n",
              "      <td>0.0</td>\n",
              "    </tr>\n",
              "    <tr>\n",
              "      <th>3</th>\n",
              "      <td>0.263</td>\n",
              "      <td>-0.426</td>\n",
              "      <td>0.0</td>\n",
              "    </tr>\n",
              "    <tr>\n",
              "      <th>4</th>\n",
              "      <td>0.258</td>\n",
              "      <td>0.017</td>\n",
              "      <td>0.0</td>\n",
              "    </tr>\n",
              "  </tbody>\n",
              "</table>\n",
              "</div>"
            ],
            "text/plain": [
              "       x      y  case\n",
              "0  0.246  0.174   0.0\n",
              "1  0.250 -0.487   0.0\n",
              "2  0.255 -0.202   0.0\n",
              "3  0.263 -0.426   0.0\n",
              "4  0.258  0.017   0.0"
            ]
          },
          "metadata": {
            "tags": []
          },
          "execution_count": 2
        }
      ]
    },
    {
      "cell_type": "markdown",
      "metadata": {
        "id": "w5R6YabnJ0Lt",
        "colab_type": "text"
      },
      "source": [
        "The data is organized into **cases**. Each case represents a different relationship between the variables x and y. We can choose the samples from a single case by using *logical indexing*."
      ]
    },
    {
      "cell_type": "code",
      "metadata": {
        "id": "2lGLOhvcKOMu",
        "colab_type": "code",
        "colab": {
          "base_uri": "https://localhost:8080/",
          "height": 295
        },
        "outputId": "dd97f3c0-804e-4850-aa4d-35b774ad8d57"
      },
      "source": [
        "x = df['x'].values\n",
        "y = df['y'].values\n",
        "case = df['case'].values\n",
        "\n",
        "log_ind = (case==3)\n",
        "\n",
        "x0 = x[log_ind]\n",
        "y0 = y[log_ind]\n",
        "\n",
        "plt.plot(x0,y0,'ob',markeredgecolor='black')\n",
        "plt.xlim([-2,2])\n",
        "plt.ylim([-2,2])\n",
        "plt.xlabel('x')\n",
        "plt.ylabel('y');\n",
        "plt.title('The Third Case');"
      ],
      "execution_count": null,
      "outputs": [
        {
          "output_type": "display_data",
          "data": {
            "image/png": "[encoded data removed]",
            "text/plain": [
              "<Figure size 432x288 with 1 Axes>"
            ]
          },
          "metadata": {
            "tags": []
          }
        }
      ]
    },
    {
      "cell_type": "markdown",
      "metadata": {
        "id": "42AClwuALe-7",
        "colab_type": "text"
      },
      "source": [
        "There are 11 cases in this dataset. Each case has 500 samples of (x,y) pairs associated with it. That means we have 5500 samples all together!\n",
        "### Your Task:\n",
        "- For Cases 0 and 1:\n",
        "  - Graph a scatter plot for each case with xlims [-2,2] and ylims [-2,2]\n",
        "  - Compute the **mean of x**, **mean of y**, **variance of x**, and **variance of y**\n",
        "  - Visually, what do these statistics mean?"
      ]
    },
    {
      "cell_type": "markdown",
      "metadata": {
        "id": "QuRJu0B5OuXk",
        "colab_type": "text"
      },
      "source": [
        "First, write a function that computes statistics for the case and prints them out."
      ]
    },
    {
      "cell_type": "code",
      "metadata": {
        "id": "G8o5QxN-O2PX",
        "colab_type": "code",
        "colab": {}
      },
      "source": [
        "def print_stats(x,y):\n",
        "  xm = np.mean(x)\n",
        "  ym  = np.mean(y)\n",
        "  xv = np.var(x)\n",
        "  yv = np.var(y)\n",
        "  cov = np.mean( (x-xm)*(y-ym) )\n",
        "  r  = cov/np.sqrt(xv*yv)\n",
        "  print('Xmean =',xm,'Ymean =',ym)\n",
        "  print('Xvar =',xv,'Yvar =',yv)\n",
        "  print('Covxy = ', cov)\n",
        "  print('Corr  = ', r)"
      ],
      "execution_count": null,
      "outputs": []
    },
    {
      "cell_type": "markdown",
      "metadata": {
        "id": "ek3YjA95NQrn",
        "colab_type": "text"
      },
      "source": [
        "## Pause for lecture"
      ]
    },
    {
      "cell_type": "markdown",
      "metadata": {
        "id": "pbfJdOQwNOP3",
        "colab_type": "text"
      },
      "source": [
        " ### Your Task:\n",
        "- For Cases 2 to 8:\n",
        "  - Graph a scatter plot for each case with xlims [-2,2] and ylims [-2,2]\n",
        "  - Compute the **variance of x**, **variance of y**, **covariance of x and y** and the **correlation coefficient**\n",
        "  - Visually, what do these statistics mean? How is covariance different from correlation coefficient?\n",
        "  \n",
        "  Extra: can you write a for-loop for this?"
      ]
    },
    {
      "cell_type": "code",
      "metadata": {
        "id": "M64ioHc6KuM3",
        "colab_type": "code",
        "colab": {
          "base_uri": "https://localhost:8080/",
          "height": 4030
        },
        "outputId": "3669c32a-5ccc-40d6-f7a0-40273bb445c4"
      },
      "source": [
        "x = df['x'].values\n",
        "y = df['y'].values\n",
        "case = df['case'].values\n",
        "\n",
        "for i in np.arange(11):\n",
        "  log_ind = (case==i)\n",
        "\n",
        "  x0 = x[log_ind]\n",
        "  y0 = y[log_ind]\n",
        "\n",
        "  plt.figure()\n",
        "  plt.plot(x0,y0,'ob',markeredgecolor='black')\n",
        "  plt.xlim([-2,2])\n",
        "  plt.ylim([-2,2])\n",
        "  plt.xlabel('x')\n",
        "  plt.ylabel('y');\n",
        "  plt.title('Case'+str(i));\n",
        "  print(\"------- Case %d -------\" % i)\n",
        "  print_stats(x0,y0)"
      ],
      "execution_count": null,
      "outputs": [
        {
          "output_type": "stream",
          "text": [
            "------- Case 0 -------\n",
            "Xmean = 0.2502124542124542 Ymean = -0.09103479853479853\n",
            "Xvar = 0.000104431053683801 Yvar = 0.0956485061150693\n",
            "Covxy =  0.0003382802868681994\n",
            "Corr  =  0.10703424858866659\n",
            "------- Case 1 -------\n",
            "Xmean = -0.7364339999999999 Ymean = 0.39985200000000004\n",
            "Xvar = 0.112271325644 Yvar = 0.00010185009600000002\n",
            "Covxy =  -3.4040231999999215e-05\n",
            "Corr  =  -0.010066473734127598\n",
            "------- Case 2 -------\n",
            "Xmean = -0.004811999999999998 Ymean = -0.004811999999999998\n",
            "Xvar = 0.099413600656 Yvar = 0.099413600656\n",
            "Covxy =  0.099413600656\n",
            "Corr  =  1.0\n",
            "------- Case 3 -------\n",
            "Xmean = 0.021493999999999985 Ymean = 0.00922\n",
            "Xvar = 0.400380357964 Yvar = 0.0981194836\n",
            "Covxy =  0.15649224932\n",
            "Corr  =  0.7895485206949822\n",
            "------- Case 4 -------\n",
            "Xmean = -0.018836 Ymean = 0.001365999999999997\n",
            "Xvar = 0.110433133104 Yvar = 0.098771180044\n",
            "Covxy =  0.039707839976000005\n",
            "Corr  =  0.38019941553845693\n",
            "------- Case 5 -------\n",
            "Xmean = -0.01118 Ymean = 0.009584000000000004\n",
            "Xvar = 0.0940504396 Yvar = 0.10614499894400001\n",
            "Covxy =  0.0001908831200000005\n",
            "Corr  =  0.0019104573271064855\n",
            "------- Case 6 -------\n",
            "Xmean = -0.023315999999999996 Ymean = -0.004929999999999999\n",
            "Xvar = 0.102556980144 Yvar = 0.0937295491\n",
            "Covxy =  -0.039086615879999995\n",
            "Corr  =  -0.39866416050803716\n",
            "------- Case 7 -------\n",
            "Xmean = -0.025438000000000002 Ymean = 0.013935999999999999\n",
            "Xvar = 0.10980657415599998 Yvar = 0.096717571904\n",
            "Covxy =  -0.082518972032\n",
            "Corr  =  -0.8007315589531616\n",
            "------- Case 8 -------\n",
            "Xmean = 0.0048779999999999995 Ymean = -0.009769999999999994\n",
            "Xvar = 0.10957873911600001 Yvar = 0.4382462211\n",
            "Covxy =  -0.21914016994\n",
            "Corr  =  -0.9999994351688398\n",
            "------- Case 9 -------\n",
            "Xmean = 0.008744 Ymean = 0.0034460000000000263\n",
            "Xvar = 0.5091271144639999 Yvar = 0.510531611084\n",
            "Covxy =  -0.002638839823999987\n",
            "Corr  =  -0.005175932419733898\n",
            "------- Case 10 -------\n",
            "Xmean = 0.03595599999999996 Ymean = 0.26975\n",
            "Xvar = 1.5676133660640001 Yvar = 0.9135650154999998\n",
            "Covxy =  0.06831600900000012\n",
            "Corr  =  0.05708648174064891\n"
          ],
          "name": "stdout"
        },
        {
          "output_type": "display_data",
          "data": {
            "image/png": "[encoded data removed]",
            "text/plain": [
              "<Figure size 432x288 with 1 Axes>"
            ]
          },
          "metadata": {
            "tags": []
          }
        },
        {
          "output_type": "display_data",
          "data": {
            "image/png": "[encoded data removed]",
            "text/plain": [
              "<Figure size 432x288 with 1 Axes>"
            ]
          },
          "metadata": {
            "tags": []
          }
        },
        {
          "output_type": "display_data",
          "data": {
            "image/png": "[encoded data removed]",
            "text/plain": [
              "<Figure size 432x288 with 1 Axes>"
            ]
          },
          "metadata": {
            "tags": []
          }
        },
        {
          "output_type": "display_data",
          "data": {
            "image/png": "[encoded data removed]",
            "text/plain": [
              "<Figure size 432x288 with 1 Axes>"
            ]
          },
          "metadata": {
            "tags": []
          }
        },
        {
          "output_type": "display_data",
          "data": {
            "image/png": "[encoded data removed]",
            "text/plain": [
              "<Figure size 432x288 with 1 Axes>"
            ]
          },
          "metadata": {
            "tags": []
          }
        },
        {
          "output_type": "display_data",
          "data": {
            "image/png": "[encoded data removed]",
            "text/plain": [
              "<Figure size 432x288 with 1 Axes>"
            ]
          },
          "metadata": {
            "tags": []
          }
        },
        {
          "output_type": "display_data",
          "data": {
            "image/png": "[encoded data removed]",
            "text/plain": [
              "<Figure size 432x288 with 1 Axes>"
            ]
          },
          "metadata": {
            "tags": []
          }
        },
        {
          "output_type": "display_data",
          "data": {
            "image/png": "[encoded data removed]",
            "text/plain": [
              "<Figure size 432x288 with 1 Axes>"
            ]
          },
          "metadata": {
            "tags": []
          }
        },
        {
          "output_type": "display_data",
          "data": {
            "image/png": "[encoded data removed]",
            "text/plain": [
              "<Figure size 432x288 with 1 Axes>"
            ]
          },
          "metadata": {
            "tags": []
          }
        },
        {
          "output_type": "display_data",
          "data": {
            "image/png": "[encoded data removed]",
            "text/plain": [
              "<Figure size 432x288 with 1 Axes>"
            ]
          },
          "metadata": {
            "tags": []
          }
        },
        {
          "output_type": "display_data",
          "data": {
            "image/png": "[encoded data removed]",
            "text/plain": [
              "<Figure size 432x288 with 1 Axes>"
            ]
          },
          "metadata": {
            "tags": []
          }
        }
      ]
    },
    {
      "cell_type": "markdown",
      "metadata": {
        "id": "7wfYTy6uNm1Z",
        "colab_type": "text"
      },
      "source": [
        "## Pause for lecture"
      ]
    },
    {
      "cell_type": "markdown",
      "metadata": {
        "id": "2dP58IzzNrsS",
        "colab_type": "text"
      },
      "source": [
        "### Your Task\n",
        "- For Cases 10 and 11:\n",
        "  - Graph a scatter plot for each case with xlims [-2,2] and ylims [-2,2]\n",
        "  - Compute *all* of the above metrics\n",
        "  - What do these statistics mean?"
      ]
    },
    {
      "cell_type": "markdown",
      "metadata": {
        "id": "n9FnsN9XI6gN",
        "colab_type": "text"
      },
      "source": [
        "# M5: *Demo*: Least-Squares Solution"
      ]
    },
    {
      "cell_type": "markdown",
      "metadata": {
        "id": "792KvKYeJB6N",
        "colab_type": "text"
      },
      "source": [
        "##Computing the parameters for linear fit"
      ]
    },
    {
      "cell_type": "markdown",
      "metadata": {
        "id": "CHNjYJBkJXiT",
        "colab_type": "text"
      },
      "source": [
        "We can now try to fit a linear model,  $\\hat{y} = \\beta_0 + \\beta_1 x$. From class, the formulae are: $$\\beta_1 = s_{yx}/s_{xx}, \\quad \\beta_0 = \\bar{y} - \\beta_1\\bar{x},$$ where $\\bar{x}$ and $\\bar{y}$ are the sample means and $s_{yx}$ and $s_{xx}$ are the covariance and variances"
      ]
    },
    {
      "cell_type": "code",
      "metadata": {
        "id": "A3e76tXXJBJ_",
        "colab_type": "code",
        "colab": {
          "base_uri": "https://localhost:8080/",
          "height": 69
        },
        "outputId": "8b288826-8f54-423a-f94b-0dfd0acc45f5"
      },
      "source": [
        "beta1 = syx/sxx\n",
        "beta0 = ym - beta1*xm\n",
        "\n",
        "print(\"xbar     ={0:7.2f},       ybar={1:7.2f}\".format(xm,ym))\n",
        "print(\"sqrt(sxx)={0:7.2f},  sqrt(syy)={1:7.2f}\".format(np.sqrt(sxx),np.sqrt(syy)))\n",
        "print(\"beta0={0:7.2f}, beta1={1:7.2f}\".format(beta0,beta1))"
      ],
      "execution_count": null,
      "outputs": [
        {
          "output_type": "stream",
          "text": [
            "xbar     =   6.28,       ybar=  22.53\n",
            "sqrt(sxx)=   0.70,  sqrt(syy)=   9.19\n",
            "beta0= -34.67, beta1=   9.10\n"
          ],
          "name": "stdout"
        }
      ]
    },
    {
      "cell_type": "markdown",
      "metadata": {
        "id": "8Izajg26Jh08",
        "colab_type": "text"
      },
      "source": [
        "## Plotting the linear fit"
      ]
    },
    {
      "cell_type": "markdown",
      "metadata": {
        "id": "jrW6LIJHJoUk",
        "colab_type": "text"
      },
      "source": [
        "We can create a plot of the regression line on top of the scatter plot. The vector xplt are the x-coordinates of the two endpoints of the line. They are chosen so that the line fits nicely in the plot."
      ]
    },
    {
      "cell_type": "code",
      "metadata": {
        "id": "T3LPfkgJJx0G",
        "colab_type": "code",
        "colab": {
          "base_uri": "https://localhost:8080/",
          "height": 283
        },
        "outputId": "25ab769b-426b-4b69-9f30-b88af5eccc1d"
      },
      "source": [
        "# Points on the regression line\n",
        "xplt = np.array([3,9])          \n",
        "yplt = beta1*xplt + beta0\n",
        "\n",
        "plt.plot(x,y,'o')                    # Plot the data points\n",
        "plt.plot(xplt,yplt,'-',linewidth=3)  # Plot the regression line\n",
        "plt.xlabel('Average number of rooms in a region')\n",
        "plt.ylabel('Price')\n",
        "plt.grid(True)"
      ],
      "execution_count": null,
      "outputs": [
        {
          "output_type": "display_data",
          "data": {
            "image/png": "[encoded data removed]",
            "text/plain": [
              "<Figure size 432x288 with 1 Axes>"
            ]
          },
          "metadata": {
            "tags": []
          }
        }
      ]
    },
    {
      "cell_type": "markdown",
      "metadata": {
        "id": "jTKjzQJGKGZc",
        "colab_type": "text"
      },
      "source": [
        "## Goodness of fit"
      ]
    },
    {
      "cell_type": "code",
      "metadata": {
        "id": "SvhaVSi2KBpG",
        "colab_type": "code",
        "colab": {
          "base_uri": "https://localhost:8080/",
          "height": 35
        },
        "outputId": "e083764a-6579-41e8-ce0b-a30900b5a294"
      },
      "source": [
        "yhat=beta0+beta1*x\n",
        "MSE = np.mean((y-yhat)**2)\n",
        "print(\"MSE = {0:7.2f}\".format(MSE))"
      ],
      "execution_count": null,
      "outputs": [
        {
          "output_type": "stream",
          "text": [
            "RSS =   43.60\n"
          ],
          "name": "stdout"
        }
      ]
    },
    {
      "cell_type": "markdown",
      "metadata": {
        "id": "w78DOASLWcCD",
        "colab_type": "text"
      },
      "source": [
        "# M6: *Demo*: Multivariable Regression on Boston Housing Data"
      ]
    },
    {
      "cell_type": "markdown",
      "metadata": {
        "id": "JRrZ5gJhX2Hk",
        "colab_type": "text"
      },
      "source": [
        "Code that should already have come before...\n",
        "\n",
        "Let's read in the data and see what it looks like..."
      ]
    },
    {
      "cell_type": "code",
      "metadata": {
        "id": "iDw4tjflX1C1",
        "colab_type": "code",
        "colab": {
          "base_uri": "https://localhost:8080/",
          "height": 233
        },
        "outputId": "25e3baf6-c384-40ca-e2c8-6af301ab1d7f"
      },
      "source": [
        "import pandas as pd\n",
        "import numpy as np\n",
        "\n",
        "names =[\n",
        "    'CRIM', 'ZN', 'INDUS', 'CHAS', 'NOX', 'RM', \n",
        "    'AGE',  'DIS', 'RAD', 'TAX', 'PTRATIO', 'B', 'LSTAT', 'PRICE']\n",
        "\n",
        "df = pd.read_csv('https://archive.ics.uci.edu/ml/machine-learning-databases/housing/housing.data', \n",
        "                 header=None,delim_whitespace=True,names=names,na_values='?')\n",
        "\n",
        "df.head(6)  # print the first six samples"
      ],
      "execution_count": null,
      "outputs": [
        {
          "output_type": "execute_result",
          "data": {
            "text/html": [
              "<div>\n",
              "<style scoped>\n",
              "    .dataframe tbody tr th:only-of-type {\n",
              "        vertical-align: middle;\n",
              "    }\n",
              "\n",
              "    .dataframe tbody tr th {\n",
              "        vertical-align: top;\n",
              "    }\n",
              "\n",
              "    .dataframe thead th {\n",
              "        text-align: right;\n",
              "    }\n",
              "</style>\n",
              "<table border=\"1\" class=\"dataframe\">\n",
              "  <thead>\n",
              "    <tr style=\"text-align: right;\">\n",
              "      <th></th>\n",
              "      <th>CRIM</th>\n",
              "      <th>ZN</th>\n",
              "      <th>INDUS</th>\n",
              "      <th>CHAS</th>\n",
              "      <th>NOX</th>\n",
              "      <th>RM</th>\n",
              "      <th>AGE</th>\n",
              "      <th>DIS</th>\n",
              "      <th>RAD</th>\n",
              "      <th>TAX</th>\n",
              "      <th>PTRATIO</th>\n",
              "      <th>B</th>\n",
              "      <th>LSTAT</th>\n",
              "      <th>PRICE</th>\n",
              "    </tr>\n",
              "  </thead>\n",
              "  <tbody>\n",
              "    <tr>\n",
              "      <th>0</th>\n",
              "      <td>0.00632</td>\n",
              "      <td>18.0</td>\n",
              "      <td>2.31</td>\n",
              "      <td>0</td>\n",
              "      <td>0.538</td>\n",
              "      <td>6.575</td>\n",
              "      <td>65.2</td>\n",
              "      <td>4.0900</td>\n",
              "      <td>1</td>\n",
              "      <td>296.0</td>\n",
              "      <td>15.3</td>\n",
              "      <td>396.90</td>\n",
              "      <td>4.98</td>\n",
              "      <td>24.0</td>\n",
              "    </tr>\n",
              "    <tr>\n",
              "      <th>1</th>\n",
              "      <td>0.02731</td>\n",
              "      <td>0.0</td>\n",
              "      <td>7.07</td>\n",
              "      <td>0</td>\n",
              "      <td>0.469</td>\n",
              "      <td>6.421</td>\n",
              "      <td>78.9</td>\n",
              "      <td>4.9671</td>\n",
              "      <td>2</td>\n",
              "      <td>242.0</td>\n",
              "      <td>17.8</td>\n",
              "      <td>396.90</td>\n",
              "      <td>9.14</td>\n",
              "      <td>21.6</td>\n",
              "    </tr>\n",
              "    <tr>\n",
              "      <th>2</th>\n",
              "      <td>0.02729</td>\n",
              "      <td>0.0</td>\n",
              "      <td>7.07</td>\n",
              "      <td>0</td>\n",
              "      <td>0.469</td>\n",
              "      <td>7.185</td>\n",
              "      <td>61.1</td>\n",
              "      <td>4.9671</td>\n",
              "      <td>2</td>\n",
              "      <td>242.0</td>\n",
              "      <td>17.8</td>\n",
              "      <td>392.83</td>\n",
              "      <td>4.03</td>\n",
              "      <td>34.7</td>\n",
              "    </tr>\n",
              "    <tr>\n",
              "      <th>3</th>\n",
              "      <td>0.03237</td>\n",
              "      <td>0.0</td>\n",
              "      <td>2.18</td>\n",
              "      <td>0</td>\n",
              "      <td>0.458</td>\n",
              "      <td>6.998</td>\n",
              "      <td>45.8</td>\n",
              "      <td>6.0622</td>\n",
              "      <td>3</td>\n",
              "      <td>222.0</td>\n",
              "      <td>18.7</td>\n",
              "      <td>394.63</td>\n",
              "      <td>2.94</td>\n",
              "      <td>33.4</td>\n",
              "    </tr>\n",
              "    <tr>\n",
              "      <th>4</th>\n",
              "      <td>0.06905</td>\n",
              "      <td>0.0</td>\n",
              "      <td>2.18</td>\n",
              "      <td>0</td>\n",
              "      <td>0.458</td>\n",
              "      <td>7.147</td>\n",
              "      <td>54.2</td>\n",
              "      <td>6.0622</td>\n",
              "      <td>3</td>\n",
              "      <td>222.0</td>\n",
              "      <td>18.7</td>\n",
              "      <td>396.90</td>\n",
              "      <td>5.33</td>\n",
              "      <td>36.2</td>\n",
              "    </tr>\n",
              "    <tr>\n",
              "      <th>5</th>\n",
              "      <td>0.02985</td>\n",
              "      <td>0.0</td>\n",
              "      <td>2.18</td>\n",
              "      <td>0</td>\n",
              "      <td>0.458</td>\n",
              "      <td>6.430</td>\n",
              "      <td>58.7</td>\n",
              "      <td>6.0622</td>\n",
              "      <td>3</td>\n",
              "      <td>222.0</td>\n",
              "      <td>18.7</td>\n",
              "      <td>394.12</td>\n",
              "      <td>5.21</td>\n",
              "      <td>28.7</td>\n",
              "    </tr>\n",
              "  </tbody>\n",
              "</table>\n",
              "</div>"
            ],
            "text/plain": [
              "      CRIM    ZN  INDUS  CHAS    NOX  ...    TAX  PTRATIO       B  LSTAT  PRICE\n",
              "0  0.00632  18.0   2.31     0  0.538  ...  296.0     15.3  396.90   4.98   24.0\n",
              "1  0.02731   0.0   7.07     0  0.469  ...  242.0     17.8  396.90   9.14   21.6\n",
              "2  0.02729   0.0   7.07     0  0.469  ...  242.0     17.8  392.83   4.03   34.7\n",
              "3  0.03237   0.0   2.18     0  0.458  ...  222.0     18.7  394.63   2.94   33.4\n",
              "4  0.06905   0.0   2.18     0  0.458  ...  222.0     18.7  396.90   5.33   36.2\n",
              "5  0.02985   0.0   2.18     0  0.458  ...  222.0     18.7  394.12   5.21   28.7\n",
              "\n",
              "[6 rows x 14 columns]"
            ]
          },
          "metadata": {
            "tags": []
          },
          "execution_count": 14
        }
      ]
    },
    {
      "cell_type": "markdown",
      "metadata": {
        "id": "3_jtITf0KLkf",
        "colab_type": "text"
      },
      "source": [
        "## Forming the Feature Vectors\n",
        "We want to put our features into feature vectors (stacked into a feature matrix)."
      ]
    },
    {
      "cell_type": "code",
      "metadata": {
        "id": "LTKzw2raPlZj",
        "colab_type": "code",
        "colab": {
          "base_uri": "https://localhost:8080/",
          "height": 121
        },
        "outputId": "0f8a9636-be67-485a-d181-ab36096b1807"
      },
      "source": [
        "features = df.columns.tolist()\n",
        "features.remove('PRICE')\n"
      ],
      "execution_count": null,
      "outputs": [
        {
          "output_type": "stream",
          "text": [
            "['CRIM', 'ZN', 'INDUS', 'CHAS', 'NOX', 'RM', 'AGE', 'DIS', 'RAD', 'TAX', 'PTRATIO', 'B', 'LSTAT']\n",
            "0    0.00632\n",
            "1    0.02731\n",
            "2    0.02729\n",
            "Name: CRIM, dtype: float64\n",
            "[0.00632 0.02731 0.02729]\n"
          ],
          "name": "stdout"
        }
      ]
    },
    {
      "cell_type": "markdown",
      "metadata": {
        "id": "jhjwussDaUHG",
        "colab_type": "text"
      },
      "source": [
        "Treat all the features as a vector, $\\mathbf{x}$, and stack the samples in a $N$ by $D$ matrix, $X$, where $N$ is the number of samples and $D$ is the number of features."
      ]
    },
    {
      "cell_type": "code",
      "metadata": {
        "id": "jS5abEJGZWEp",
        "colab_type": "code",
        "colab": {
          "base_uri": "https://localhost:8080/",
          "height": 35
        },
        "outputId": "d50eb644-2d44-4664-95f5-142dfb54c5e7"
      },
      "source": [
        "X = np.hstack([df[f].values.reshape(-1,1) for f in features])\n",
        "print(X.shape)"
      ],
      "execution_count": null,
      "outputs": [
        {
          "output_type": "stream",
          "text": [
            "(506, 13)\n"
          ],
          "name": "stdout"
        }
      ]
    },
    {
      "cell_type": "markdown",
      "metadata": {
        "id": "e6eeBUv31nlW",
        "colab_type": "text"
      },
      "source": [
        "## Normalizing the Data\n",
        "Normalize the data by $\\mathbf{Z} = \\frac{x - \\bar{x}}{\\sigma_x}$. This allows us to look at our learned parameters comparativley to see which features are most important for determining the output.\n",
        "\n",
        "It's good practice to check that what you're doing makes sense by looking at the shapes of your vectors. Numpy will sometimes allow operations to pass through that you wouldn't normally think possible with special instances of *broadcasting*."
      ]
    },
    {
      "cell_type": "code",
      "metadata": {
        "id": "W_qVYJBn16dp",
        "colab_type": "code",
        "colab": {
          "base_uri": "https://localhost:8080/",
          "height": 208
        },
        "outputId": "d33f5f3b-54e7-412c-c115-0ecf1b08bd51"
      },
      "source": [
        "Xbar = np.mean(X,axis=0,keepdims=True)\n",
        "print(Xbar.shape)\n",
        "Xstd = np.std(X,axis=0,keepdims=True)\n",
        "print(Xstd.shape)\n",
        "\n",
        "X = (X-Xbar) / Xstd\n",
        "print(X[:3,:])"
      ],
      "execution_count": null,
      "outputs": [
        {
          "output_type": "stream",
          "text": [
            "(1, 13)\n",
            "(1, 13)\n",
            "[[-0.41978194  0.28482986 -1.2879095  -0.27259857 -0.14421743  0.41367189\n",
            "  -0.12001342  0.1402136  -0.98284286 -0.66660821 -1.45900038  0.44105193\n",
            "  -1.0755623 ]\n",
            " [-0.41733926 -0.48772236 -0.59338101 -0.27259857 -0.74026221  0.19427445\n",
            "   0.36716642  0.55715988 -0.8678825  -0.98732948 -0.30309415  0.44105193\n",
            "  -0.49243937]\n",
            " [-0.41734159 -0.48772236 -0.59338101 -0.27259857 -0.74026221  1.28271368\n",
            "  -0.26581176  0.55715988 -0.8678825  -0.98732948 -0.30309415  0.39642699\n",
            "  -1.2087274 ]]\n"
          ],
          "name": "stdout"
        }
      ]
    },
    {
      "cell_type": "code",
      "metadata": {
        "id": "Rfqqr2dzcIfi",
        "colab_type": "code",
        "colab": {
          "base_uri": "https://localhost:8080/",
          "height": 35
        },
        "outputId": "a8412ba9-56c2-49e3-af26-d00d5625e9af"
      },
      "source": [
        "\n"
      ],
      "execution_count": null,
      "outputs": [
        {
          "output_type": "stream",
          "text": [
            "(506, 14)\n"
          ],
          "name": "stdout"
        }
      ]
    },
    {
      "cell_type": "markdown",
      "metadata": {
        "id": "My_yW7qiLhMd",
        "colab_type": "text"
      },
      "source": [
        "## LS Solution\n",
        "Computing the psuedo inverse ourselves."
      ]
    },
    {
      "cell_type": "code",
      "metadata": {
        "id": "GtTB6MU6cqP1",
        "colab_type": "code",
        "colab": {
          "base_uri": "https://localhost:8080/",
          "height": 35
        },
        "outputId": "f3f5d5ff-c0d4-423a-c686-e4da6cf9aab7"
      },
      "source": [
        "(N,D) = X.shape\n",
        "\n",
        "y = df['PRICE'].values.reshape(-1,1)\n",
        "\n",
        "regr = \n",
        "\n",
        "MSE = np.sum( (y_hat - y)**2 ) / N\n",
        "print(MSE)"
      ],
      "execution_count": null,
      "outputs": [
        {
          "output_type": "stream",
          "text": [
            "21.8948311817292\n"
          ],
          "name": "stdout"
        }
      ]
    },
    {
      "cell_type": "markdown",
      "metadata": {
        "id": "FYgRc8uKMszW",
        "colab_type": "text"
      },
      "source": [
        "Print the first values of the ground truth and model predictions to get a feel for our LS solution."
      ]
    },
    {
      "cell_type": "code",
      "metadata": {
        "id": "57Ox9Cfxfsi6",
        "colab_type": "code",
        "colab": {
          "base_uri": "https://localhost:8080/",
          "height": 52
        },
        "outputId": "400e86f0-ae32-4fb7-9561-487652be3a72"
      },
      "source": [
        "with np.printoptions(precision=2):\n",
        "  print(y_hat[:5].flatten())\n",
        "  print(y[:5].flatten())"
      ],
      "execution_count": null,
      "outputs": [
        {
          "output_type": "stream",
          "text": [
            "[30.   25.03 30.57 28.61 27.94]\n",
            "[24.  21.6 34.7 33.4 36.2]\n"
          ],
          "name": "stdout"
        }
      ]
    },
    {
      "cell_type": "markdown",
      "metadata": {
        "id": "WuEqfbQtM52X",
        "colab_type": "text"
      },
      "source": [
        "Printing the parameters to see which are treated most significantly. It seems that the proportion of lower-income people living in the neighborhood is the most significant indicator of housing costs (last parameter)."
      ]
    },
    {
      "cell_type": "code",
      "metadata": {
        "id": "6hMCT8G7gZRn",
        "colab_type": "code",
        "colab": {
          "base_uri": "https://localhost:8080/",
          "height": 260
        },
        "outputId": "22ffe54a-fa5c-412b-c129-7b8f5505e71c"
      },
      "source": [
        "with np.printoptions(precision=2,suppress=True):\n",
        "  print(beta)"
      ],
      "execution_count": null,
      "outputs": [
        {
          "output_type": "stream",
          "text": [
            "[[22.53]\n",
            " [-0.93]\n",
            " [ 1.08]\n",
            " [ 0.14]\n",
            " [ 0.68]\n",
            " [-2.06]\n",
            " [ 2.67]\n",
            " [ 0.02]\n",
            " [-3.1 ]\n",
            " [ 2.66]\n",
            " [-2.08]\n",
            " [-2.06]\n",
            " [ 0.85]\n",
            " [-3.74]]\n"
          ],
          "name": "stdout"
        }
      ]
    },
    {
      "cell_type": "markdown",
      "metadata": {
        "id": "cvEmMc7HNSEj",
        "colab_type": "text"
      },
      "source": [
        "Using Numpy's built in function ```np.lstsq()```, we see we get the same results. Numpy has optimized their function to be much quicker, so use their's going forward."
      ]
    },
    {
      "cell_type": "code",
      "metadata": {
        "id": "WnW_X19ZguWZ",
        "colab_type": "code",
        "colab": {
          "base_uri": "https://localhost:8080/",
          "height": 277
        },
        "outputId": "271be193-98f2-4619-8dce-801ce4fe293d"
      },
      "source": [
        "soln = np.linalg.lstsq(A,y,rcond=None)\n",
        "beta = soln[0]\n",
        "MSE = soln[1] / N\n",
        "\n",
        "with np.printoptions(precision=2,suppress=True):\n",
        "  print(beta)\n",
        "  print(MSE)"
      ],
      "execution_count": null,
      "outputs": [
        {
          "output_type": "stream",
          "text": [
            "[[22.53]\n",
            " [-0.93]\n",
            " [ 1.08]\n",
            " [ 0.14]\n",
            " [ 0.68]\n",
            " [-2.06]\n",
            " [ 2.67]\n",
            " [ 0.02]\n",
            " [-3.1 ]\n",
            " [ 2.66]\n",
            " [-2.08]\n",
            " [-2.06]\n",
            " [ 0.85]\n",
            " [-3.74]]\n",
            "[21.89]\n"
          ],
          "name": "stdout"
        }
      ]
    },
    {
      "cell_type": "markdown",
      "metadata": {
        "id": "vKrhN7KoDRi1",
        "colab_type": "text"
      },
      "source": [
        "# M7: *Demo*: Transforming the Output Data"
      ]
    },
    {
      "cell_type": "code",
      "metadata": {
        "id": "0rjZgf0W4NCN",
        "colab_type": "code",
        "colab": {
          "base_uri": "https://localhost:8080/",
          "height": 294
        },
        "outputId": "bca655c2-5ec9-4ad8-bddf-8a27b46d8a4d"
      },
      "source": [
        "import matplotlib.pyplot as plt\n",
        "\n",
        "\n",
        "names = ['mpg','cylinders','displacement','horsepower','weight','acceleration','model year','origin','car name']\n",
        "df = pd.read_csv('https://archive.ics.uci.edu/ml/machine-learning-databases/auto-mpg/auto-mpg.data',delim_whitespace=True,header=None,names=names)\n",
        "df.head(8)\n",
        "\n"
      ],
      "execution_count": null,
      "outputs": [
        {
          "output_type": "execute_result",
          "data": {
            "text/html": [
              "<div>\n",
              "<style scoped>\n",
              "    .dataframe tbody tr th:only-of-type {\n",
              "        vertical-align: middle;\n",
              "    }\n",
              "\n",
              "    .dataframe tbody tr th {\n",
              "        vertical-align: top;\n",
              "    }\n",
              "\n",
              "    .dataframe thead th {\n",
              "        text-align: right;\n",
              "    }\n",
              "</style>\n",
              "<table border=\"1\" class=\"dataframe\">\n",
              "  <thead>\n",
              "    <tr style=\"text-align: right;\">\n",
              "      <th></th>\n",
              "      <th>mpg</th>\n",
              "      <th>cylinders</th>\n",
              "      <th>displacement</th>\n",
              "      <th>horsepower</th>\n",
              "      <th>weight</th>\n",
              "      <th>acceleration</th>\n",
              "      <th>model year</th>\n",
              "      <th>origin</th>\n",
              "      <th>car name</th>\n",
              "    </tr>\n",
              "  </thead>\n",
              "  <tbody>\n",
              "    <tr>\n",
              "      <th>0</th>\n",
              "      <td>18.0</td>\n",
              "      <td>8</td>\n",
              "      <td>307.0</td>\n",
              "      <td>130.0</td>\n",
              "      <td>3504.0</td>\n",
              "      <td>12.0</td>\n",
              "      <td>70</td>\n",
              "      <td>1</td>\n",
              "      <td>chevrolet chevelle malibu</td>\n",
              "    </tr>\n",
              "    <tr>\n",
              "      <th>1</th>\n",
              "      <td>15.0</td>\n",
              "      <td>8</td>\n",
              "      <td>350.0</td>\n",
              "      <td>165.0</td>\n",
              "      <td>3693.0</td>\n",
              "      <td>11.5</td>\n",
              "      <td>70</td>\n",
              "      <td>1</td>\n",
              "      <td>buick skylark 320</td>\n",
              "    </tr>\n",
              "    <tr>\n",
              "      <th>2</th>\n",
              "      <td>18.0</td>\n",
              "      <td>8</td>\n",
              "      <td>318.0</td>\n",
              "      <td>150.0</td>\n",
              "      <td>3436.0</td>\n",
              "      <td>11.0</td>\n",
              "      <td>70</td>\n",
              "      <td>1</td>\n",
              "      <td>plymouth satellite</td>\n",
              "    </tr>\n",
              "    <tr>\n",
              "      <th>3</th>\n",
              "      <td>16.0</td>\n",
              "      <td>8</td>\n",
              "      <td>304.0</td>\n",
              "      <td>150.0</td>\n",
              "      <td>3433.0</td>\n",
              "      <td>12.0</td>\n",
              "      <td>70</td>\n",
              "      <td>1</td>\n",
              "      <td>amc rebel sst</td>\n",
              "    </tr>\n",
              "    <tr>\n",
              "      <th>4</th>\n",
              "      <td>17.0</td>\n",
              "      <td>8</td>\n",
              "      <td>302.0</td>\n",
              "      <td>140.0</td>\n",
              "      <td>3449.0</td>\n",
              "      <td>10.5</td>\n",
              "      <td>70</td>\n",
              "      <td>1</td>\n",
              "      <td>ford torino</td>\n",
              "    </tr>\n",
              "    <tr>\n",
              "      <th>5</th>\n",
              "      <td>15.0</td>\n",
              "      <td>8</td>\n",
              "      <td>429.0</td>\n",
              "      <td>198.0</td>\n",
              "      <td>4341.0</td>\n",
              "      <td>10.0</td>\n",
              "      <td>70</td>\n",
              "      <td>1</td>\n",
              "      <td>ford galaxie 500</td>\n",
              "    </tr>\n",
              "    <tr>\n",
              "      <th>6</th>\n",
              "      <td>14.0</td>\n",
              "      <td>8</td>\n",
              "      <td>454.0</td>\n",
              "      <td>220.0</td>\n",
              "      <td>4354.0</td>\n",
              "      <td>9.0</td>\n",
              "      <td>70</td>\n",
              "      <td>1</td>\n",
              "      <td>chevrolet impala</td>\n",
              "    </tr>\n",
              "    <tr>\n",
              "      <th>7</th>\n",
              "      <td>14.0</td>\n",
              "      <td>8</td>\n",
              "      <td>440.0</td>\n",
              "      <td>215.0</td>\n",
              "      <td>4312.0</td>\n",
              "      <td>8.5</td>\n",
              "      <td>70</td>\n",
              "      <td>1</td>\n",
              "      <td>plymouth fury iii</td>\n",
              "    </tr>\n",
              "  </tbody>\n",
              "</table>\n",
              "</div>"
            ],
            "text/plain": [
              "    mpg  cylinders  displacement  ... model year  origin                   car name\n",
              "0  18.0          8         307.0  ...         70       1  chevrolet chevelle malibu\n",
              "1  15.0          8         350.0  ...         70       1          buick skylark 320\n",
              "2  18.0          8         318.0  ...         70       1         plymouth satellite\n",
              "3  16.0          8         304.0  ...         70       1              amc rebel sst\n",
              "4  17.0          8         302.0  ...         70       1                ford torino\n",
              "5  15.0          8         429.0  ...         70       1           ford galaxie 500\n",
              "6  14.0          8         454.0  ...         70       1           chevrolet impala\n",
              "7  14.0          8         440.0  ...         70       1          plymouth fury iii\n",
              "\n",
              "[8 rows x 9 columns]"
            ]
          },
          "metadata": {
            "tags": []
          },
          "execution_count": 23
        }
      ]
    },
    {
      "cell_type": "code",
      "metadata": {
        "id": "hC81vJsjDU_L",
        "colab_type": "code",
        "colab": {
          "base_uri": "https://localhost:8080/",
          "height": 283
        },
        "outputId": "98cff8ae-0b2f-4fbe-ef40-9b1cd1b332aa"
      },
      "source": [
        "y = df['mpg'].values.reshape(-1,1)\n",
        "x = df['displacement'].values.reshape(-1,1)\n",
        "\n",
        "plt.figure()\n",
        "plt.scatter(x,y)\n",
        "plt.xlabel('Displacement');\n",
        "plt.ylabel('MPG');"
      ],
      "execution_count": null,
      "outputs": [
        {
          "output_type": "display_data",
          "data": {
            "image/png": "[encoded data removed]",
            "text/plain": [
              "<Figure size 432x288 with 1 Axes>"
            ]
          },
          "metadata": {
            "tags": []
          }
        }
      ]
    },
    {
      "cell_type": "code",
      "metadata": {
        "id": "ynunQF97DXHz",
        "colab_type": "code",
        "colab": {
          "base_uri": "https://localhost:8080/",
          "height": 287
        },
        "outputId": "3f51c4fb-5ab6-4e38-ce15-d3732b96c9f2"
      },
      "source": [
        "from sklearn.linear_model import LinearRegression\n",
        "\n",
        "regr = LinearRegression()\n",
        "regr.fit(x,y)\n",
        "yhat = regr.predict(x)\n",
        "\n",
        "plt.figure()\n",
        "plt.scatter(x,y, color = 'orange')\n",
        "plt.plot(x,yhat, linewidth = '4')\n",
        "\n",
        "print(regr.score(x,y))"
      ],
      "execution_count": null,
      "outputs": [
        {
          "output_type": "stream",
          "text": [
            "0.6467421834257859\n"
          ],
          "name": "stdout"
        },
        {
          "output_type": "display_data",
          "data": {
            "image/png": "[encoded data removed]",
            "text/plain": [
              "<Figure size 432x288 with 1 Axes>"
            ]
          },
          "metadata": {
            "tags": []
          }
        }
      ]
    },
    {
      "cell_type": "markdown",
      "metadata": {
        "id": "qMd0azc8DZD4",
        "colab_type": "text"
      },
      "source": [
        "#### Clearly, the relation between mpg and displacement is not linear.\n",
        "#### If we just apply linear regression directly, it does not lead to a good fit.\n",
        "\n",
        "####  Looks like mpg has exponential decay behavior with respect to the displacement.\n",
        "#### We can transform the data by taking the log of y, so that it becomes linear"
      ]
    },
    {
      "cell_type": "code",
      "metadata": {
        "id": "KIuaGZ9uDbFp",
        "colab_type": "code",
        "colab": {
          "base_uri": "https://localhost:8080/",
          "height": 287
        },
        "outputId": "76a981b4-814b-4c67-cf39-208e1ada09b9"
      },
      "source": [
        "y_transformed = np.log(y)\n",
        "plt.figure()\n",
        "plt.scatter(x,y_transformed)"
      ],
      "execution_count": null,
      "outputs": [
        {
          "output_type": "execute_result",
          "data": {
            "text/plain": [
              "<matplotlib.collections.PathCollection at 0x7fd6e2857908>"
            ]
          },
          "metadata": {
            "tags": []
          },
          "execution_count": 26
        },
        {
          "output_type": "display_data",
          "data": {
            "image/png": "[encoded data removed]",
            "text/plain": [
              "<Figure size 432x288 with 1 Axes>"
            ]
          },
          "metadata": {
            "tags": []
          }
        }
      ]
    },
    {
      "cell_type": "code",
      "metadata": {
        "id": "nAfXzgCGDddK",
        "colab_type": "code",
        "colab": {
          "base_uri": "https://localhost:8080/",
          "height": 287
        },
        "outputId": "f0dd1dc4-5928-42e2-825e-bd03cb9d741b"
      },
      "source": [
        "from sklearn.linear_model import LinearRegression\n",
        "\n",
        "regr = LinearRegression()\n",
        "regr.fit(x,y_transformed)\n",
        "yhat = regr.predict(x)\n",
        "\n",
        "plt.figure()\n",
        "plt.scatter(x,y_transformed, color = 'orange')\n",
        "plt.plot(x,yhat, linewidth = '4')"
      ],
      "execution_count": null,
      "outputs": [
        {
          "output_type": "execute_result",
          "data": {
            "text/plain": [
              "[<matplotlib.lines.Line2D at 0x7fd6e2895048>]"
            ]
          },
          "metadata": {
            "tags": []
          },
          "execution_count": 27
        },
        {
          "output_type": "display_data",
          "data": {
            "image/png": "[encoded data removed]",
            "text/plain": [
              "<Figure size 432x288 with 1 Axes>"
            ]
          },
          "metadata": {
            "tags": []
          }
        }
      ]
    },
    {
      "cell_type": "code",
      "metadata": {
        "id": "ZSaIsx3IDgST",
        "colab_type": "code",
        "colab": {
          "base_uri": "https://localhost:8080/",
          "height": 35
        },
        "outputId": "131a617b-b5d3-4e8b-bf95-f37910e6ac2c"
      },
      "source": [
        "print(regr.score(x,y_transformed))"
      ],
      "execution_count": null,
      "outputs": [
        {
          "output_type": "stream",
          "text": [
            "0.7286645595672465\n"
          ],
          "name": "stdout"
        }
      ]
    },
    {
      "cell_type": "markdown",
      "metadata": {
        "id": "-tvbkjNtVMA0",
        "colab_type": "text"
      },
      "source": [
        "# M8: *Lab*: Multiple Linear Regression for Robot Arm Calibration\n",
        "\n"
      ]
    },
    {
      "cell_type": "markdown",
      "metadata": {
        "id": "PnCiIny6Wa-0",
        "colab_type": "text"
      },
      "source": [
        "In this lab, we will illustrate the use of multiple linear regression for calibrating robot control.  In addition understanding the concepts in the multivariable linear regression demo (with Boston housing data), you will see how to use multiple linear regression for time series data -- an important concept in dynamical systems such as robotics.\n",
        "\n",
        "The robot data for the lab is taken from the TU Dortmund's [Multiple Link Robot Arms Project](http://www.rst.e-technik.tu-dortmund.de/cms/en/research/robotics/TUDOR_engl/index.html).  As part of the project, they have created an excellent public dataset: [MERIt](http://www.rst.e-technik.tu-dortmund.de/cms/en/research/robotics/TUDOR_engl/index.html#h3MERIt) -- A Multi-Elastic-Link Robot Identification Dataset that can be used for understanding robot dynamics.  The data is from a three link robot:\n",
        "\n",
        "<img src=\"http://www.rst.e-technik.tu-dortmund.de/cms/Medienpool/redaktionelleBilder/Forschung/Schwerpunkte/TUDOR_engl/TUDORBild.png\" height=\"200\" width=\"200\">\n",
        "\n",
        "\n",
        "**We will focus on predicting the current draw into one of the joints as a function of the robot motion.  Such models are essential in predicting the overall robot power consumption.  Several other models could also be used.**"
      ]
    },
    {
      "cell_type": "markdown",
      "metadata": {
        "id": "K2l5ZAAmVaGl",
        "colab_type": "text"
      },
      "source": [
        "#### Load and Visualize the Data\n",
        "First, import the modules we will need."
      ]
    },
    {
      "cell_type": "code",
      "metadata": {
        "id": "7ozY8h1kVc3K",
        "colab_type": "code",
        "colab": {}
      },
      "source": [
        "import pandas as pd\n",
        "import numpy as np\n",
        "import matplotlib\n",
        "import matplotlib.pyplot as plt\n",
        "%matplotlib inline"
      ],
      "execution_count": null,
      "outputs": []
    },
    {
      "cell_type": "markdown",
      "metadata": {
        "id": "VEcKT7nQVegq",
        "colab_type": "text"
      },
      "source": [
        "The full MERIt dataset can be obtained from the [MERIt site](http://www.rst.e-technik.tu-dortmund.de/cms/en/research/robotics/TUDOR_engl/index.html#h3MERIt).  But, this dataset is large. Included in this repository are two of the ten experiments.  Each experiments corresonds to 80 seconds of recorded motion.  \n",
        "\n",
        "We are going to use the following file:\n",
        "* [robot_arm.csv](https://raw.githubusercontent.com/nikopj/SummerML/master/Day3/robot_arm.csv) \n",
        "\n",
        "Below, we have supplied the column headers in the `names` array.  \n",
        "\n",
        "**Use the `pd.read_csv` command to load the data.  Use the `index_col` option to specify that column 0 (the one with time) is the *index* column.**\n"
      ]
    },
    {
      "cell_type": "code",
      "metadata": {
        "id": "evMgZYlaVgdU",
        "colab_type": "code",
        "colab": {}
      },
      "source": [
        "names =[\n",
        "    't',                                  # Time (secs)\n",
        "    'q1', 'q2', 'q3',                     # Joint angle   (rads)\n",
        "    'dq1', 'dq2', 'dq3',                  # Joint velocity (rads/sec)\n",
        "    'I1', 'I2', 'I3',                     # Motor current (A)\n",
        "    'eps21', 'eps22', 'eps31', 'eps32',   # Strain gauge measurements ($\\mu$m /m )\n",
        "    'ddq1', 'ddq2', 'ddq3'                # Joint accelerations (rad/sec^2)\n",
        "]\n",
        "\n",
        "\n",
        "# TODO \n",
        "# df = pd.read_csv(...)\n",
        "\n",
        "df = pd.read_csv('https://raw.githubusercontent.com/nikopj/SummerML/master/'\n",
        "                 +'Day3/robot_arm.csv', header=None,sep=',',names=names, \n",
        "                 index_col=0)"
      ],
      "execution_count": null,
      "outputs": []
    },
    {
      "cell_type": "markdown",
      "metadata": {
        "id": "R5TF8ex_Viy1",
        "colab_type": "text"
      },
      "source": [
        "Print the first six lines of the pandas dataframe and manually check that they match the first rows of the csv file."
      ]
    },
    {
      "cell_type": "code",
      "metadata": {
        "id": "ETVedrPgVksc",
        "colab_type": "code",
        "colab": {
          "base_uri": "https://localhost:8080/",
          "height": 289
        },
        "outputId": "4d643b61-c054-4b64-9e44-ba94047f4097"
      },
      "source": [
        "# TODO\n",
        "\n",
        "df.head(6)"
      ],
      "execution_count": null,
      "outputs": [
        {
          "output_type": "execute_result",
          "data": {
            "text/html": [
              "<div>\n",
              "<style scoped>\n",
              "    .dataframe tbody tr th:only-of-type {\n",
              "        vertical-align: middle;\n",
              "    }\n",
              "\n",
              "    .dataframe tbody tr th {\n",
              "        vertical-align: top;\n",
              "    }\n",
              "\n",
              "    .dataframe thead th {\n",
              "        text-align: right;\n",
              "    }\n",
              "</style>\n",
              "<table border=\"1\" class=\"dataframe\">\n",
              "  <thead>\n",
              "    <tr style=\"text-align: right;\">\n",
              "      <th></th>\n",
              "      <th>q1</th>\n",
              "      <th>q2</th>\n",
              "      <th>q3</th>\n",
              "      <th>dq1</th>\n",
              "      <th>dq2</th>\n",
              "      <th>dq3</th>\n",
              "      <th>I1</th>\n",
              "      <th>I2</th>\n",
              "      <th>I3</th>\n",
              "      <th>eps21</th>\n",
              "      <th>eps22</th>\n",
              "      <th>eps31</th>\n",
              "      <th>eps32</th>\n",
              "      <th>ddq1</th>\n",
              "      <th>ddq2</th>\n",
              "      <th>ddq3</th>\n",
              "    </tr>\n",
              "    <tr>\n",
              "      <th>t</th>\n",
              "      <th></th>\n",
              "      <th></th>\n",
              "      <th></th>\n",
              "      <th></th>\n",
              "      <th></th>\n",
              "      <th></th>\n",
              "      <th></th>\n",
              "      <th></th>\n",
              "      <th></th>\n",
              "      <th></th>\n",
              "      <th></th>\n",
              "      <th></th>\n",
              "      <th></th>\n",
              "      <th></th>\n",
              "      <th></th>\n",
              "      <th></th>\n",
              "    </tr>\n",
              "  </thead>\n",
              "  <tbody>\n",
              "    <tr>\n",
              "      <th>0.00</th>\n",
              "      <td>-0.000007</td>\n",
              "      <td>2.4958</td>\n",
              "      <td>-1.1345</td>\n",
              "      <td>-7.882100e-21</td>\n",
              "      <td>-4.940656e-321</td>\n",
              "      <td>3.913100e-29</td>\n",
              "      <td>-0.081623</td>\n",
              "      <td>-0.40812</td>\n",
              "      <td>-0.30609</td>\n",
              "      <td>-269.25</td>\n",
              "      <td>-113.20</td>\n",
              "      <td>3.5918</td>\n",
              "      <td>1.57860</td>\n",
              "      <td>-9.904900e-19</td>\n",
              "      <td>-6.210306e-319</td>\n",
              "      <td>4.917400e-27</td>\n",
              "    </tr>\n",
              "    <tr>\n",
              "      <th>0.01</th>\n",
              "      <td>-0.000007</td>\n",
              "      <td>2.4958</td>\n",
              "      <td>-1.1345</td>\n",
              "      <td>-2.258200e-21</td>\n",
              "      <td>-4.940656e-321</td>\n",
              "      <td>2.626200e-31</td>\n",
              "      <td>-0.037411</td>\n",
              "      <td>-0.37241</td>\n",
              "      <td>-0.26698</td>\n",
              "      <td>-270.91</td>\n",
              "      <td>-116.05</td>\n",
              "      <td>1.4585</td>\n",
              "      <td>-1.73980</td>\n",
              "      <td>4.248100e-19</td>\n",
              "      <td>-1.766878e-319</td>\n",
              "      <td>-1.381100e-27</td>\n",
              "    </tr>\n",
              "    <tr>\n",
              "      <th>0.02</th>\n",
              "      <td>-0.000007</td>\n",
              "      <td>2.4958</td>\n",
              "      <td>-1.1345</td>\n",
              "      <td>-6.469800e-22</td>\n",
              "      <td>-4.940656e-321</td>\n",
              "      <td>1.762500e-33</td>\n",
              "      <td>-0.066319</td>\n",
              "      <td>-0.40302</td>\n",
              "      <td>-0.31459</td>\n",
              "      <td>-269.25</td>\n",
              "      <td>-112.97</td>\n",
              "      <td>3.5918</td>\n",
              "      <td>0.86753</td>\n",
              "      <td>3.233800e-19</td>\n",
              "      <td>-4.990557e-320</td>\n",
              "      <td>-4.117300e-28</td>\n",
              "    </tr>\n",
              "    <tr>\n",
              "      <th>0.03</th>\n",
              "      <td>-0.000007</td>\n",
              "      <td>2.4958</td>\n",
              "      <td>-1.1345</td>\n",
              "      <td>-1.853600e-22</td>\n",
              "      <td>-4.940656e-321</td>\n",
              "      <td>1.182800e-35</td>\n",
              "      <td>-0.068020</td>\n",
              "      <td>-0.43703</td>\n",
              "      <td>-0.28398</td>\n",
              "      <td>-269.97</td>\n",
              "      <td>-114.39</td>\n",
              "      <td>1.6956</td>\n",
              "      <td>-0.08059</td>\n",
              "      <td>1.500500e-19</td>\n",
              "      <td>-1.394253e-320</td>\n",
              "      <td>-1.173100e-28</td>\n",
              "    </tr>\n",
              "    <tr>\n",
              "      <th>0.04</th>\n",
              "      <td>-0.000007</td>\n",
              "      <td>2.4958</td>\n",
              "      <td>-1.1345</td>\n",
              "      <td>-5.310600e-23</td>\n",
              "      <td>-4.940656e-321</td>\n",
              "      <td>-5.270900e-03</td>\n",
              "      <td>-0.052715</td>\n",
              "      <td>-0.40472</td>\n",
              "      <td>-0.30779</td>\n",
              "      <td>-269.97</td>\n",
              "      <td>-114.15</td>\n",
              "      <td>3.1177</td>\n",
              "      <td>0.86753</td>\n",
              "      <td>5.932400e-20</td>\n",
              "      <td>-3.581976e-321</td>\n",
              "      <td>-3.770800e-01</td>\n",
              "    </tr>\n",
              "    <tr>\n",
              "      <th>0.05</th>\n",
              "      <td>-0.000007</td>\n",
              "      <td>2.4958</td>\n",
              "      <td>-1.1345</td>\n",
              "      <td>-1.521500e-23</td>\n",
              "      <td>-4.940656e-321</td>\n",
              "      <td>3.252600e-04</td>\n",
              "      <td>-0.088425</td>\n",
              "      <td>-0.42342</td>\n",
              "      <td>-0.29589</td>\n",
              "      <td>-269.25</td>\n",
              "      <td>-114.15</td>\n",
              "      <td>2.4066</td>\n",
              "      <td>-0.08059</td>\n",
              "      <td>2.164600e-20</td>\n",
              "      <td>-1.141292e-321</td>\n",
              "      <td>2.930300e-01</td>\n",
              "    </tr>\n",
              "  </tbody>\n",
              "</table>\n",
              "</div>"
            ],
            "text/plain": [
              "            q1      q2      q3  ...          ddq1           ddq2          ddq3\n",
              "t                               ...                                           \n",
              "0.00 -0.000007  2.4958 -1.1345  ... -9.904900e-19 -6.210306e-319  4.917400e-27\n",
              "0.01 -0.000007  2.4958 -1.1345  ...  4.248100e-19 -1.766878e-319 -1.381100e-27\n",
              "0.02 -0.000007  2.4958 -1.1345  ...  3.233800e-19 -4.990557e-320 -4.117300e-28\n",
              "0.03 -0.000007  2.4958 -1.1345  ...  1.500500e-19 -1.394253e-320 -1.173100e-28\n",
              "0.04 -0.000007  2.4958 -1.1345  ...  5.932400e-20 -3.581976e-321 -3.770800e-01\n",
              "0.05 -0.000007  2.4958 -1.1345  ...  2.164600e-20 -1.141292e-321  2.930300e-01\n",
              "\n",
              "[6 rows x 16 columns]"
            ]
          },
          "metadata": {
            "tags": []
          },
          "execution_count": 3
        }
      ]
    },
    {
      "cell_type": "markdown",
      "metadata": {
        "id": "ag6KfhLOVmt7",
        "colab_type": "text"
      },
      "source": [
        "**From** the dataframe `df`, extract the *time* indices into a vector `t` and extract `I2`, the *current* into the second joint.  Place the *current* in a vector `y` and plot `y` vs. `t`.   Label the axes with the units."
      ]
    },
    {
      "cell_type": "code",
      "metadata": {
        "id": "VYUPYBk3VoGE",
        "colab_type": "code",
        "colab": {
          "base_uri": "https://localhost:8080/",
          "height": 300
        },
        "outputId": "a56f572a-1067-4ba7-a744-d628ef08d038"
      },
      "source": [
        "# TODO\n",
        "# y = ...\n",
        "# t = ...\n",
        "# plt.plot(...)\n",
        "\n",
        "\n",
        "y = np.array(df['I2'])\n",
        "t = np.array(df.index)\n",
        "plt.plot(t,y)\n",
        "plt.grid()\n",
        "plt.xlabel('Time (secs)')\n",
        "plt.ylabel('Current I2 (A)')"
      ],
      "execution_count": null,
      "outputs": [
        {
          "output_type": "execute_result",
          "data": {
            "text/plain": [
              "Text(0, 0.5, 'Current I2 (A)')"
            ]
          },
          "metadata": {
            "tags": []
          },
          "execution_count": 4
        },
        {
          "output_type": "display_data",
          "data": {
            "image/png": "[encoded data removed]",
            "text/plain": [
              "<Figure size 432x288 with 1 Axes>"
            ]
          },
          "metadata": {
            "tags": []
          }
        }
      ]
    },
    {
      "cell_type": "markdown",
      "metadata": {
        "id": "J9WL3ILDVppX",
        "colab_type": "text"
      },
      "source": [
        "Let's use all the samples from the dataset that we need to train our model with:\n",
        "\n",
        "* `y`:  A vector of all the samples from the `I2` column\n",
        "* `X`:  A matrix of the data with the columns:  `['q2','dq2','eps21', 'eps22', 'eps31', 'eps32','ddq2']`"
      ]
    },
    {
      "cell_type": "code",
      "metadata": {
        "id": "FFgu7GY4VswA",
        "colab_type": "code",
        "colab": {}
      },
      "source": [
        "# TODO\n",
        "# y = ...\n",
        "# X = ...\n",
        "\n",
        "\n",
        "y = np.array(df['I2'])\n",
        "X = np.array(df[['q2','dq2','eps21', 'eps22', 'eps31', 'eps32','ddq2']])"
      ],
      "execution_count": null,
      "outputs": []
    },
    {
      "cell_type": "markdown",
      "metadata": {
        "id": "eHoADmvSVwM3",
        "colab_type": "text"
      },
      "source": [
        "#### Fit a Linear Model\n",
        "\n",
        "Import linear_model from sklearn.\n",
        "\n",
        "Use the `sklearn.linear_model` module to create a `LinearRegression` class `regr`."
      ]
    },
    {
      "cell_type": "code",
      "metadata": {
        "id": "eqy2s-gGVx-a",
        "colab_type": "code",
        "colab": {}
      },
      "source": [
        "# Create linear regression object\n",
        "# TODO\n",
        "# from ...\n",
        "# regr = ...\n",
        "\n",
        "from sklearn import linear_model\n",
        "regr = linear_model.LinearRegression()"
      ],
      "execution_count": null,
      "outputs": []
    },
    {
      "cell_type": "markdown",
      "metadata": {
        "id": "VSKvEKUJV0z7",
        "colab_type": "text"
      },
      "source": [
        "Train the model on the our data."
      ]
    },
    {
      "cell_type": "code",
      "metadata": {
        "id": "uF0rF45uV3uC",
        "colab_type": "code",
        "colab": {
          "base_uri": "https://localhost:8080/",
          "height": 34
        },
        "outputId": "dd8323b8-6aac-48ce-9a50-63ae4b4bcbe7"
      },
      "source": [
        "# TODO\n",
        "\n",
        "regr.fit(X, y)"
      ],
      "execution_count": null,
      "outputs": [
        {
          "output_type": "execute_result",
          "data": {
            "text/plain": [
              "LinearRegression(copy_X=True, fit_intercept=True, n_jobs=None, normalize=False)"
            ]
          },
          "metadata": {
            "tags": []
          },
          "execution_count": 7
        }
      ]
    },
    {
      "cell_type": "markdown",
      "metadata": {
        "id": "84jbOe7-V5LP",
        "colab_type": "text"
      },
      "source": [
        "Using the trained model, compute, `y_pred`, the predicted *current*.  Plot `y_pred` vs. time `t`.  On the same plot, plot the actual *current* `ytrain` vs. time `t`.  Create a legend for the plot."
      ]
    },
    {
      "cell_type": "code",
      "metadata": {
        "id": "5ci6hXd1V7Lm",
        "colab_type": "code",
        "colab": {
          "base_uri": "https://localhost:8080/",
          "height": 300
        },
        "outputId": "bb55f3f4-3a26-45bd-abfc-37d5cfa3250a"
      },
      "source": [
        "# TODO\n",
        "y_pred = regr.predict(X)\n",
        "plt.plot(t,y)\n",
        "plt.plot(t,y_pred)\n",
        "plt.legend(['actual', 'predicted'])\n",
        "plt.xlabel('Time (secs)')\n",
        "plt.ylabel('Current I2 (A)')"
      ],
      "execution_count": null,
      "outputs": [
        {
          "output_type": "execute_result",
          "data": {
            "text/plain": [
              "Text(0, 0.5, 'Current I2 (A)')"
            ]
          },
          "metadata": {
            "tags": []
          },
          "execution_count": 8
        },
        {
          "output_type": "display_data",
          "data": {
            "image/png": "[encoded data removed]",
            "text/plain": [
              "<Figure size 432x288 with 1 Axes>"
            ]
          },
          "metadata": {
            "tags": []
          }
        }
      ]
    },
    {
      "cell_type": "markdown",
      "metadata": {
        "id": "XZeDaz96V-IH",
        "colab_type": "text"
      },
      "source": [
        "#### Goodness of the fit\n",
        "\n",
        "Measure the normalized RSS given by \n",
        "$$\n",
        "    \\frac{RSS}{n s^2_y}.\n",
        "$$\n",
        "\n",
        "\n",
        "Measure the R^2 score. "
      ]
    },
    {
      "cell_type": "code",
      "metadata": {
        "id": "V08WKZuDV_Rz",
        "colab_type": "code",
        "colab": {
          "base_uri": "https://localhost:8080/",
          "height": 50
        },
        "outputId": "a39cbd9f-83d5-40b5-d7be-eb2a66a7e5df"
      },
      "source": [
        "# TODO\n",
        "RSS = np.mean((y-y_pred)**2) / np.mean((y-np.mean(y))**2)\n",
        "print('RSS =', RSS)\n",
        "\n",
        "R2 = 1 - RSS\n",
        "print('R^2 score =', R2)"
      ],
      "execution_count": null,
      "outputs": [
        {
          "output_type": "stream",
          "text": [
            "RSS = 0.09583263861233197\n",
            "R^2 score = 0.9041673613876681\n"
          ],
          "name": "stdout"
        }
      ]
    },
    {
      "cell_type": "code",
      "metadata": {
        "id": "zLobFdUxWAwD",
        "colab_type": "code",
        "colab": {
          "base_uri": "https://localhost:8080/",
          "height": 50
        },
        "outputId": "f13f178a-1741-4a5f-fdb9-d47ec4b3291e"
      },
      "source": [
        "#OR\n",
        "\n",
        "RSS = np.sum((y-y_pred)**2)\n",
        "N = y.size\n",
        "syy = np.mean((y - np.mean(y))**2)\n",
        "R2 = 1 - (RSS/N)/syy\n",
        "\n",
        "print('RSS =',(RSS/N)/syy)\n",
        "print('R^2 =', R2)"
      ],
      "execution_count": null,
      "outputs": [
        {
          "output_type": "stream",
          "text": [
            "RSS = 0.09583263861233197\n",
            "R^2 = 0.9041673613876681\n"
          ],
          "name": "stdout"
        }
      ]
    },
    {
      "cell_type": "markdown",
      "metadata": {
        "id": "yWwnfe1HDbvK",
        "colab_type": "text"
      },
      "source": [
        "# M9: *Demo*: Polynomial Regression\n",
        "Can we learn to predict the values of a polynomial process? Will this be a linear model?\n"
      ]
    },
    {
      "cell_type": "markdown",
      "metadata": {
        "id": "5AlLya-bJnBa",
        "colab_type": "text"
      },
      "source": [
        "\n",
        "## Generating the Synthetic Data\n",
        "We'll start with a \"true\" process and add some noise to the samples to give us our measured values."
      ]
    },
    {
      "cell_type": "code",
      "metadata": {
        "id": "zghvT0eIJTUh",
        "colab_type": "code",
        "colab": {
          "base_uri": "https://localhost:8080/"
        },
        "outputId": "2044a6d7-c50a-4df0-c272-486ce618d14d"
      },
      "source": [
        "import numpy as np\n",
        "import matplotlib\n",
        "import matplotlib.pyplot as plt\n",
        "%matplotlib inline\n",
        "\n",
        "nsamp = 100 # number of samples taken\n",
        "c = np.array([5,1,1,1]) # true process coefficients\n",
        "var = 0.2 # noise variance\n",
        "\n",
        "# we'll take a set of measurements uniformly\n",
        "x = np.linspace(-1,1,nsamp)\n",
        "y = np.polyval(c,x)\n",
        "# noisy measurement, ym. use sqrt(var) as numpy normal standard deviation\n",
        "ym = y + np.random.normal(0, np.sqrt(var), nsamp)\n",
        "\n",
        "plt.plot(x,y)\n",
        "# we can force a scatter plot in plt.plot by making the third argument 'o'\n",
        "plt.plot(x,ym,'o',ms=4,markeredgecolor='black')\n",
        "plt.grid()\n",
        "plt.xlabel('x')\n",
        "plt.ylabel('y')\n",
        "plt.legend(['True Process, y','Noisy Measurement, ym']);"
      ],
      "execution_count": null,
      "outputs": [
        {
          "output_type": "display_data",
          "data": {
            "image/png": "[encoded data removed]",
            "text/plain": [
              "<Figure size 432x288 with 1 Axes>"
            ]
          },
          "metadata": {
            "tags": []
          }
        }
      ]
    },
    {
      "cell_type": "markdown",
      "metadata": {
        "id": "t-vX28YVJV_W",
        "colab_type": "text"
      },
      "source": [
        "## The Model for Polynomial Regression\n",
        "Come up with a mathematical model for this regression problem. What are the input features? What does this look like matricially?"
      ]
    },
    {
      "cell_type": "code",
      "metadata": {
        "id": "Xjhwya-kJVDa",
        "colab_type": "code",
        "colab": {
          "base_uri": "https://localhost:8080/"
        },
        "outputId": "a2bdd180-8772-49c0-f283-33433292f142"
      },
      "source": [
        "M = 3 # model order\n",
        "\n",
        "# reshape to column vectors\n",
        "x = x.reshape(-1,1); ym = ym.reshape(-1,1)\n",
        "# forming the design matrix \n",
        "A = np.hstack([x**m for m in np.arange(M+1)])\n",
        "# finding least squares solution\n",
        "soln = np.linalg.lstsq(A,ym,rcond=None)\n",
        "c_hat = soln[0];\n",
        "\n",
        "# model outputs\n",
        "y_hat = np.matmul(A,c_hat)\n",
        "\n",
        "plt.plot(x,y)\n",
        "plt.plot(x,ym,'o',ms=4,markeredgecolor='black');\n",
        "plt.plot(x,y_hat)\n",
        "plt.grid();\n",
        "plt.xlabel('x')\n",
        "plt.ylabel('y')\n",
        "plt.legend(['True Process, y','Noisy Measurement, ym','Model, y_hat']);"
      ],
      "execution_count": null,
      "outputs": [
        {
          "output_type": "display_data",
          "data": {
            "image/png": "[encoded data removed]",
            "text/plain": [
              "<Figure size 432x288 with 1 Axes>"
            ]
          },
          "metadata": {
            "tags": []
          }
        }
      ]
    },
    {
      "cell_type": "markdown",
      "metadata": {
        "id": "G4e1686TYY1_",
        "colab_type": "text"
      },
      "source": [
        "# M11: *Lab*: Fitting a curve with transformation"
      ]
    },
    {
      "cell_type": "code",
      "metadata": {
        "id": "og2gouIyJcdU",
        "colab_type": "code",
        "colab": {
          "base_uri": "https://localhost:8080/",
          "height": 287
        },
        "outputId": "42156814-2cbb-4750-e620-44134d808d37"
      },
      "source": [
        "npts = 100\n",
        "x = np.random.rand(npts,1)*2*np.pi\n",
        "y = 5*np.sin(x) + np.random.randn(npts,1)*1.5\n",
        "\n",
        "plt.scatter(x,y)"
      ],
      "execution_count": null,
      "outputs": [
        {
          "output_type": "execute_result",
          "data": {
            "text/plain": [
              "<matplotlib.collections.PathCollection at 0x7fd6e2593828>"
            ]
          },
          "metadata": {
            "tags": []
          },
          "execution_count": 41
        },
        {
          "output_type": "display_data",
          "data": {
            "image/png": "[encoded data removed]",
            "text/plain": [
              "<Figure size 432x288 with 1 Axes>"
            ]
          },
          "metadata": {
            "tags": []
          }
        }
      ]
    },
    {
      "cell_type": "markdown",
      "metadata": {
        "id": "zEM59QDVX1nu",
        "colab_type": "text"
      },
      "source": [
        "#### What transformation do you think can be used to fit this curve?\n"
      ]
    },
    {
      "cell_type": "code",
      "metadata": {
        "id": "W1ErSUK8X0Tn",
        "colab_type": "code",
        "colab": {
          "base_uri": "https://localhost:8080/",
          "height": 287
        },
        "outputId": "442c770b-9f29-4380-dfd3-c6b4df13c63b"
      },
      "source": [
        "## Solution\n",
        "## Use Gaussian to fit the sine wave\n",
        "## Can also use polynomial\n",
        "def gauss(x,mu,sigma):\n",
        "  y = np.exp(-((x-mu)**2)/(2*sigma**2))\n",
        "  return y\n",
        "\n",
        "mu1 = np.pi/2\n",
        "mu2 = 3*np.pi/2\n",
        "sigma = 1\n",
        "X = np.hstack((gauss(x,mu1,sigma),gauss(x,mu2,sigma)))\n",
        "regr = LinearRegression()\n",
        "regr.fit(X,y)\n",
        "\n",
        "x_ax = np.linspace(0,2*np.pi,npts).reshape(-1,1)\n",
        "x_ax_transf = np.hstack((gauss(x_ax,mu1,sigma),gauss(x_ax,mu2,sigma)))\n",
        "yhat = regr.predict(x_ax_transf)\n",
        "plt.plot(x_ax, yhat)\n",
        "plt.scatter(x,y,color = 'orange')\n",
        "plt.plot(x_ax,5*np.sin(x_ax), color='gray')"
      ],
      "execution_count": null,
      "outputs": [
        {
          "output_type": "execute_result",
          "data": {
            "text/plain": [
              "[<matplotlib.lines.Line2D at 0x7fd6e2639da0>]"
            ]
          },
          "metadata": {
            "tags": []
          },
          "execution_count": 42
        },
        {
          "output_type": "display_data",
          "data": {
            "image/png": "[encoded data removed]",
            "text/plain": [
              "<Figure size 432x288 with 1 Axes>"
            ]
          },
          "metadata": {
            "tags": []
          }
        }
      ]
    }
  ]
}